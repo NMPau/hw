{
  "nbformat": 4,
  "nbformat_minor": 0,
  "metadata": {
    "colab": {
      "name": "\"homework1\"",
      "provenance": [],
      "collapsed_sections": [],
      "include_colab_link": true
    },
    "kernelspec": {
      "name": "python3",
      "display_name": "Python 3"
    },
    "language_info": {
      "name": "python"
    }
  },
  "cells": [
    {
      "cell_type": "markdown",
      "metadata": {
        "id": "view-in-github",
        "colab_type": "text"
      },
      "source": [
        "<a href=\"https://colab.research.google.com/github/NMPau/hw/blob/main/%22homework1%22.ipynb\" target=\"_parent\"><img src=\"https://colab.research.google.com/assets/colab-badge.svg\" alt=\"Open In Colab\"/></a>"
      ]
    },
    {
      "cell_type": "markdown",
      "source": [
        "Задача 1. \n",
        "\n",
        "Брошено две монеты. Найти вероятность того, что монеты выпали разными сторонами"
      ],
      "metadata": {
        "id": "v04vl562q-Dd"
      }
    },
    {
      "cell_type": "code",
      "source": [
        "import pandas as pd\n",
        "import numpy as np\n",
        "import matplotlib.pyplot as plt\n",
        "import random\n",
        "import scipy.stats as sts\n",
        "%matplotlib inline\n",
        "\n",
        "import warnings\n",
        "warnings.filterwarnings('ignore')"
      ],
      "metadata": {
        "id": "bIl7ljJbCbPA"
      },
      "execution_count": 1,
      "outputs": []
    },
    {
      "cell_type": "code",
      "source": [
        "# 1 - орел\n",
        "# 0 - решка\n",
        "A = 0\n",
        "all = []\n",
        "n=1000000\n",
        "for w in range(n):\n",
        "  m1 = np.random.randint(0, 2)\n",
        "  m2 = np.random.randint(0, 2)\n",
        "  if m1 != m2:\n",
        "    A += 1\n",
        "  el = [m1, m2]\n",
        "  if el not in all:\n",
        "    all.append(el)\n",
        "  else:\n",
        "    continue\n",
        "\n",
        "print(A/n, all)"
      ],
      "metadata": {
        "id": "T30w_YO-rI8w",
        "colab": {
          "base_uri": "https://localhost:8080/"
        },
        "outputId": "8aa1118b-f8e2-49e3-cc31-fe1e726a1f10"
      },
      "execution_count": null,
      "outputs": [
        {
          "output_type": "stream",
          "name": "stdout",
          "text": [
            "0.50018 [[1, 0], [0, 1], [1, 1], [0, 0]]\n"
          ]
        }
      ]
    },
    {
      "cell_type": "markdown",
      "source": [
        "Задача 2\n",
        "\n",
        "Брошено три монеты. Описать множество всех элементарных событий. Найти вероятности следующих событий:\n",
        "\n",
        "A = {не выпало ни одного герба}\n",
        "\n",
        "B = {выпало четное число гербов}\n",
        "\n",
        "C = {на третьей монете выпал герб}"
      ],
      "metadata": {
        "id": "ab9uWUOnhjsq"
      }
    },
    {
      "cell_type": "code",
      "source": [
        "# 1 - орел\n",
        "# 0 - решка\n",
        "A = 0\n",
        "B = 0\n",
        "C = 0\n",
        "all = []\n",
        "n=1000000\n",
        "for w in range(n):\n",
        "  m1 = np.random.randint(0, 2)\n",
        "  m2 = np.random.randint(0, 2)\n",
        "  m3 = np.random.randint(0, 2)\n",
        "  if m1 + m2 + m3 == 0:\n",
        "    A += 1\n",
        "  elif m1 + m2 + m3 == 2:\n",
        "    B +=1\n",
        "  el = [m1, m2, m3]\n",
        "  if el[-1] == 1:\n",
        "    C+=1\n",
        "  if el not in all:\n",
        "    all.append(el)\n",
        "  else:\n",
        "    continue\n",
        "\n",
        "print(A/n, B/n, C/n, all)\n"
      ],
      "metadata": {
        "colab": {
          "base_uri": "https://localhost:8080/"
        },
        "id": "ba1qFyzM_0rl",
        "outputId": "d4e49d63-e842-4d74-f236-cc641521e33d"
      },
      "execution_count": null,
      "outputs": [
        {
          "output_type": "stream",
          "name": "stdout",
          "text": [
            "0.125061 0.375094 0.499923 [[1, 1, 0], [1, 0, 1], [0, 1, 0], [0, 1, 1], [1, 0, 0], [0, 0, 1], [1, 1, 1], [0, 0, 0]]\n"
          ]
        }
      ]
    },
    {
      "cell_type": "markdown",
      "source": [
        "Задача 4\n",
        "\n",
        "Брошено две игральных кости. Описать множество элементарных событий. Найти вероятности событий:\n",
        "\n",
        "A = {вышло две \"шестерки\"}\n",
        "\n",
        "B = {сумма выпавших очков не меньше 11}\n",
        "\n",
        "C = {не выпала ни одна \"шестерка\"}"
      ],
      "metadata": {
        "id": "rPl-bN0NEI9C"
      }
    },
    {
      "cell_type": "code",
      "source": [
        "A = 0\n",
        "B = 0\n",
        "C = 0\n",
        "all = []\n",
        "n=1000000\n",
        "for w in range(n):\n",
        "  m1 = np.random.randint(1, 7)\n",
        "  m2 = np.random.randint(1, 7)\n",
        "  if m1 == m2 == 6:\n",
        "    A += 1\n",
        "  elif (m1 + m2) >= 11:\n",
        "    B += 1\n",
        "  elif m1 != 6 and m2 != 6:\n",
        "    C += 1\n",
        "  el = [m1, m2]\n",
        "  if el not in all:\n",
        "    all.append(el)\n",
        "  else:\n",
        "    continue\n",
        "df = pd.DataFrame(all)\n",
        "print (A/n, B/n, C/n, df)"
      ],
      "metadata": {
        "colab": {
          "base_uri": "https://localhost:8080/"
        },
        "id": "IjiR_c0pEKXy",
        "outputId": "d23e99e7-4ba5-4548-dde3-056c155a7ac9"
      },
      "execution_count": 40,
      "outputs": [
        {
          "output_type": "stream",
          "name": "stdout",
          "text": [
            "0.027809 0.055313 0.694335     0  1\n",
            "0   2  3\n",
            "1   1  6\n",
            "2   4  1\n",
            "3   3  4\n",
            "4   2  6\n",
            "5   5  4\n",
            "6   6  5\n",
            "7   4  6\n",
            "8   2  2\n",
            "9   5  1\n",
            "10  1  4\n",
            "11  6  2\n",
            "12  1  5\n",
            "13  5  6\n",
            "14  3  6\n",
            "15  3  3\n",
            "16  3  1\n",
            "17  3  5\n",
            "18  6  3\n",
            "19  4  2\n",
            "20  1  1\n",
            "21  5  2\n",
            "22  5  5\n",
            "23  4  5\n",
            "24  1  3\n",
            "25  6  4\n",
            "26  3  2\n",
            "27  4  4\n",
            "28  6  1\n",
            "29  2  1\n",
            "30  5  3\n",
            "31  4  3\n",
            "32  2  4\n",
            "33  1  2\n",
            "34  2  5\n",
            "35  6  6\n"
          ]
        }
      ]
    },
    {
      "cell_type": "markdown",
      "source": [
        "Задача 5\n",
        "\n",
        "Брошены две игральные кости. Найти вероятность события \n",
        "\n",
        "D = {выпала хотя бы одна шестёрка}"
      ],
      "metadata": {
        "id": "0gpfOfQwc55I"
      }
    },
    {
      "cell_type": "code",
      "source": [
        "D = 0\n",
        "all = []\n",
        "n=1000000\n",
        "for w in range(n):\n",
        "  m1 = np.random.randint(1, 7)\n",
        "  m2 = np.random.randint(1, 7)\n",
        "  if m1 == 6 or m2 == 6:\n",
        "    D += 1\n",
        "  el = [m1, m2]\n",
        "  if el not in all:\n",
        "    all.append(el)\n",
        "  else:\n",
        "    continue\n",
        "\n",
        "print (D/n)"
      ],
      "metadata": {
        "colab": {
          "base_uri": "https://localhost:8080/"
        },
        "id": "fRwAt39PdDJU",
        "outputId": "42b90c2a-87d1-44c9-bb80-813698af0e3a"
      },
      "execution_count": null,
      "outputs": [
        {
          "output_type": "stream",
          "name": "stdout",
          "text": [
            "0.305475\n"
          ]
        }
      ]
    },
    {
      "cell_type": "markdown",
      "source": [
        "Задача 7\n",
        "\n",
        "В лотерее имеется 10 билетов, из которых один выигрышный. Размер выигрыша 10 ден. ед.; стоимость билета 1 ден ед. \n",
        "\n",
        "Найти закон распределения случайной величины X, равной чистому выигрышу участника лотереи, который вытаскивает билет первым."
      ],
      "metadata": {
        "id": "Ed8sIAQXdZ2l"
      }
    },
    {
      "cell_type": "code",
      "source": [
        "# ЧВ, если выиграл 10-1= 9\n",
        "# P(9) = 1/10\n",
        "# ЧВ, если не выиграл 0-1= -1\n",
        "# P(-1) = 9/10\n",
        "from scipy.stats import bernoulli"
      ],
      "metadata": {
        "id": "yOUkyL-xdfci"
      },
      "execution_count": null,
      "outputs": []
    },
    {
      "cell_type": "code",
      "source": [
        "bernoulli_rv = sts.bernoulli(0.1)\n",
        "bernoulli_rv.rvs(10)"
      ],
      "metadata": {
        "id": "8WR8n61t8yyt",
        "outputId": "9dd8251c-af7c-4193-b658-98962ff5f397",
        "colab": {
          "base_uri": "https://localhost:8080/"
        }
      },
      "execution_count": null,
      "outputs": [
        {
          "output_type": "execute_result",
          "data": {
            "text/plain": [
              "array([0, 0, 0, 0, 0, 0, 0, 0, 1, 0])"
            ]
          },
          "metadata": {},
          "execution_count": 9
        }
      ]
    },
    {
      "cell_type": "code",
      "source": [
        "x = np.linspace(-1,9,20)\n",
        "cdf = bernoulli_rv.cdf(x) \n",
        "plt.plot(x, cdf, color=\"darkblue\")\n",
        "plt.ylabel(\"$f(x)$\")\n",
        "plt.xlabel(\"$x$\")\n",
        "plt.plot()"
      ],
      "metadata": {
        "id": "gzkh17-Z9bS5",
        "outputId": "f78145f6-96db-4e11-d009-94317ccaf3d9",
        "colab": {
          "base_uri": "https://localhost:8080/",
          "height": 297
        }
      },
      "execution_count": null,
      "outputs": [
        {
          "output_type": "execute_result",
          "data": {
            "text/plain": [
              "[]"
            ]
          },
          "metadata": {},
          "execution_count": 10
        },
        {
          "output_type": "display_data",
          "data": {
            "text/plain": [
              "<Figure size 432x288 with 1 Axes>"
            ],
            "image/png": "[encoded data removed]"
          },
          "metadata": {
            "needs_background": "light"
          }
        }
      ]
    },
    {
      "cell_type": "markdown",
      "source": [
        "Задача 9\n",
        "\n",
        "Из колоды (36 карт) вынимают последовательно без возвращения две карты. Найти вероятность того, что первой картой была шестерка, а второй — семерка. Найти условную вероятность того же события при условии, что обе карты бубновой масти."
      ],
      "metadata": {
        "id": "QXjVFiSSdjJd"
      }
    },
    {
      "cell_type": "code",
      "source": [
        "koloda = 36\n",
        "b = np.random.randint(1,10)\n",
        "c = np.random.randint(10,19)\n",
        "k = np.random.randint(19,30)\n",
        "p = np.random.randint(30,39)\n",
        "el = [b,c,k,p]\n",
        "karta = np.random.choice(el)\n",
        "karta\n",
        "# P(A) = 4/36 * 4/35 - первая 6, вторая 7\n",
        "# P(AB) = 1/36 * 1/35 - бубновая 6 и бубновая 7\n",
        "# P(B) = 9/36 * 8/35\n",
        "# P(A|B) = P(AB)/P(B) "
      ],
      "metadata": {
        "id": "coVfTi_mbUvJ",
        "outputId": "381a7f08-49ce-45cf-b5fe-33df45c1907b",
        "colab": {
          "base_uri": "https://localhost:8080/"
        }
      },
      "execution_count": null,
      "outputs": [
        {
          "output_type": "execute_result",
          "data": {
            "text/plain": [
              "23"
            ]
          },
          "metadata": {},
          "execution_count": 35
        }
      ]
    },
    {
      "cell_type": "code",
      "source": [
        "A = 0\n",
        "B = 0\n",
        "all=36\n",
        "n=36\n",
        "for w in range(n):\n",
        "  b = [1,2,3,4,5,6,7,8,9]\n",
        "  c = [10,11,12,13,14,15,16,17,18]\n",
        "  k = [19,20,21,22,23,24,25,26,27]\n",
        "  p = [28,29,30,31,32,33,34,35,36]\n",
        "  b1 = np.random.choice(b)\n",
        "  c1 = np.random.choice(c)\n",
        "  k1 = np.random.choice(k)\n",
        "  p1 = np.random.choice(p)\n",
        "  el = [b1,c1,k1,p1]\n",
        "  karta1 = np.random.choice(el)\n",
        "  karta2 = np.random.choice(el)\n",
        "  if (karta1 != karta2) and (karta1 == b[5] or karta1 == c[5] or karta1 == k[5] or karta1 == p[5]):\n",
        "    A += 1\n",
        "  elif (karta1 != karta2) and (karta2 == b[6] or karta2 == c[6] or karta2 == k[6] or karta2 == p[6]):\n",
        "    B += 1\n",
        "  else:\n",
        "    continue\n",
        "\n",
        "print(A/all * B/(all-1))"
      ],
      "metadata": {
        "id": "yw04ofIWOc1O",
        "outputId": "35318222-a0ca-48ab-dd3b-f7a3f0d7a2d7",
        "colab": {
          "base_uri": "https://localhost:8080/"
        }
      },
      "execution_count": null,
      "outputs": [
        {
          "output_type": "stream",
          "name": "stdout",
          "text": [
            "0.011111111111111112\n"
          ]
        }
      ]
    },
    {
      "cell_type": "code",
      "source": [
        "from matplotlib.transforms import Bbox\n",
        "A = 0\n",
        "B = 0\n",
        "all=36\n",
        "n=36\n",
        "for w in range(n):\n",
        "  b = [1,2,3,4,5,6,7,8,9]\n",
        "  c = [10,11,12,13,14,15,16,17,18]\n",
        "  k = [19,20,21,22,23,24,25,26,27]\n",
        "  p = [28,29,30,31,32,33,34,35,36]\n",
        "  b1 = np.random.choice(b)\n",
        "  c1 = np.random.choice(c)\n",
        "  k1 = np.random.choice(k)\n",
        "  p1 = np.random.choice(p)\n",
        "  el = [b1,c1,k1,p1]\n",
        "  karta1 = np.random.choice(el)\n",
        "  karta2 = np.random.choice(el)\n",
        "  if (karta1 != karta2) and karta1 == b[5]:\n",
        "    A = 1\n",
        "  elif (karta1 != karta2) and karta2 == b[6]:\n",
        "    B = 1\n",
        "  else:\n",
        "    continue\n",
        "    \n",
        "print(A/all * B/(all-1))"
      ],
      "metadata": {
        "id": "dHeP2O53J6--",
        "outputId": "3dd93f50-6e32-436f-e613-b5e6263ebae2",
        "colab": {
          "base_uri": "https://localhost:8080/"
        }
      },
      "execution_count": null,
      "outputs": [
        {
          "output_type": "stream",
          "name": "stdout",
          "text": [
            "0.0007936507936507937\n"
          ]
        }
      ]
    },
    {
      "cell_type": "markdown",
      "source": [
        "Задача 6\n",
        "\n",
        "В телефонном номере три последние цифры стерлись. Считая, что все возможные значения стершихся цифр равновероятны, найти вероятность событий:\n",
        "\n",
        "A = {Стерлись различные цифры},\n",
        "\n",
        "B = {Стерлись одинаковые цифры},\n",
        "\n",
        "C = {Среди стершихся цифр хотя бы две совпадают},\n",
        "\n",
        "D = {Среди стершихся цифр хотя бы две различны}"
      ],
      "metadata": {
        "id": "UrycVciI-NxX"
      }
    },
    {
      "cell_type": "code",
      "source": [
        "all = []\n",
        "A = 0\n",
        "B = 0\n",
        "C = 0\n",
        "D = 0\n",
        "n= 100000\n",
        "for number in range(n):\n",
        "  n1 = np.random.randint(0, 10)\n",
        "  n2 = np.random.randint(0, 10)\n",
        "  n3 = np.random.randint(0, 10)\n",
        "  if (n1 != n2 and n1 != n3 and n2 != n3):\n",
        "    A += 1\n",
        "  if (n1 == n2 and n1 == n3 and n2 == n3):\n",
        "    B +=1\n",
        "  if (n1 == n2 or n1 == n3 or n2 == n3):\n",
        "    C +=1\n",
        "  if (n1 != n2 or n1 != n3 or n2 != n3):\n",
        "    D += 1\n",
        "  nabor = [n1,n2,n3]\n",
        "  if nabor not in all:\n",
        "    all.append(nabor)\n",
        "\n",
        "print('P(A) = ', A/n)\n",
        "print('P(B) = ', B/n)\n",
        "print('P(C) = ', C/n)\n",
        "print('P(D) = ', D/n)\n",
        "print(len(all))"
      ],
      "metadata": {
        "colab": {
          "base_uri": "https://localhost:8080/"
        },
        "id": "V_ELr48Q-PH4",
        "outputId": "3c93fbbb-045d-48fc-db23-8c45d0968088"
      },
      "execution_count": 38,
      "outputs": [
        {
          "output_type": "stream",
          "name": "stdout",
          "text": [
            "P(A) =  0.71815\n",
            "P(B) =  0.01018\n",
            "P(C) =  0.28185\n",
            "P(D) =  0.98982\n",
            "1000\n"
          ]
        }
      ]
    }
  ]
}