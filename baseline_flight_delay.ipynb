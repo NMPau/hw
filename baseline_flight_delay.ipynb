{
 "cells": [
  {
   "cell_type": "code",
   "execution_count": 1,
   "id": "dea301d9",
   "metadata": {},
   "outputs": [
    {
     "name": "stdout",
     "output_type": "stream",
     "text": [
      "CPU times: user 2min 40s, sys: 36.2 s, total: 3min 16s\n",
      "Wall time: 3min 30s\n"
     ]
    }
   ],
   "source": [
    "%%time\n",
    "import pandas as pd\n",
    "import datetime\n",
    "import numpy as np \n",
    "from sklearn.model_selection import train_test_split\n",
    "import numpy as np\n",
    "from sklearn.metrics import mean_squared_error\n",
    "from math import sqrt\n",
    "from sklearn.linear_model import LinearRegression\n",
    "\n",
    "def make_date(df):\n",
    "  return datetime.date(df.YEAR, df.MONTH, df.DAY)\n",
    "\n",
    "def make_features(data, max_lag, rolling_mean_size):\n",
    "    data['year'] = data.dDate.dt.year\n",
    "    data['month'] = data.dDate.dt.month\n",
    "    data['day'] = data.dDate.dt.day\n",
    "    data['dayofweek'] = data.dDate.dt.dayofweek\n",
    "    for lag in range(1, max_lag + 1):\n",
    "        data['lag_{}'.format(lag)] = data['ARRIVAL_DELAY'].shift(lag)\n",
    "\n",
    "airports = pd.read_csv('data/airports.csv')\n",
    "airlines = pd.read_csv('data/airlines.csv')\n",
    "flights = pd.read_csv('data/flights.csv', dtype={'ORIGIN_AIRPORT': str,'DESTINATION_AIRPORT': str } )\n",
    "\n",
    "flights = flights.merge(airports[['IATA_CODE']],how='inner', left_on='ORIGIN_AIRPORT', right_on='IATA_CODE').drop('IATA_CODE',axis=1)\n",
    "flights = flights.merge(airports[['IATA_CODE']],how='inner', left_on='DESTINATION_AIRPORT', right_on='IATA_CODE').drop('IATA_CODE',axis=1)\n",
    "\n",
    "flights['dDate'] = flights.apply(make_date,axis = 1)"
   ]
  },
  {
   "cell_type": "code",
   "execution_count": 2,
   "id": "0539419b",
   "metadata": {},
   "outputs": [
    {
     "name": "stdout",
     "output_type": "stream",
     "text": [
      "CPU times: user 787 ms, sys: 183 ms, total: 969 ms\n",
      "Wall time: 1.02 s\n"
     ]
    }
   ],
   "source": [
    "%%time\n",
    "flight_grouped = flights.groupby(['dDate','DESTINATION_AIRPORT'])['ARRIVAL_DELAY'].sum().reset_index()\n",
    "flight_grouped['dDate'] = pd.to_datetime(flight_grouped['dDate'])"
   ]
  },
  {
   "cell_type": "code",
   "execution_count": 3,
   "id": "bce14d5e",
   "metadata": {},
   "outputs": [
    {
     "name": "stdout",
     "output_type": "stream",
     "text": [
      "CPU times: user 7.66 s, sys: 79.1 ms, total: 7.74 s\n",
      "Wall time: 7.81 s\n"
     ]
    }
   ],
   "source": [
    "%%time\n",
    "where_to_go = []\n",
    "for dest in flight_grouped.DESTINATION_AIRPORT.unique():\n",
    "    tempo = flight_grouped[flight_grouped.DESTINATION_AIRPORT==dest][['dDate','ARRIVAL_DELAY']]\n",
    "    tempo.columns = ['dDate','ARRIVAL_DELAY']\n",
    "    tempo = pd.DataFrame(tempo)\n",
    "    \n",
    "    try:\n",
    "    \n",
    "        make_features(tempo,21,7)\n",
    "        tempo.dropna(inplace=True)\n",
    "        tempo.set_index('dDate',inplace=True)\n",
    "           \n",
    "        X_train,X_test,y_train, y_test = train_test_split(tempo.drop('ARRIVAL_DELAY', axis=1),tempo.ARRIVAL_DELAY, shuffle=False, test_size=0.25)\n",
    "\n",
    "        model_lr = LinearRegression()\n",
    "        model_lr.fit(X_train,y_train)\n",
    "\n",
    "        y_predicted_lr = model_lr.predict(X_test)\n",
    "        where_to_go.append([dest,y_test.mean(),np.sqrt(mean_squared_error(y_test, y_predicted_lr))])\n",
    "\n",
    "    except Exception as e:\n",
    "        print('Error', str(e))\n",
    "        "
   ]
  },
  {
   "cell_type": "code",
   "execution_count": 4,
   "id": "f9d3a273",
   "metadata": {},
   "outputs": [
    {
     "name": "stdout",
     "output_type": "stream",
     "text": [
      "CPU times: user 1.05 ms, sys: 193 µs, total: 1.24 ms\n",
      "Wall time: 1.21 ms\n"
     ]
    }
   ],
   "source": [
    "%%time\n",
    "where_to_go = pd.DataFrame(where_to_go)\n",
    "where_to_go.columns = ['DESTINATION_AIRPORT','MEAN_ARRIVAL_DELAY_IN_PAST','RMSE']"
   ]
  },
  {
   "cell_type": "code",
   "execution_count": 5,
   "id": "25fc67c0",
   "metadata": {},
   "outputs": [
    {
     "name": "stdout",
     "output_type": "stream",
     "text": [
      "Лучшие направления с аэропорта MEM\n",
      "\n",
      "   DESTINATION_AIRPORT  MEAN_ARRIVAL_DELAY_IN_PAST         RMSE\n",
      "21                 CVG                   80.379747   475.199263\n",
      "14                 IAD                 -123.582278   726.147720\n",
      "20                 TPA                  355.772152  1465.367442\n",
      "CPU times: user 1.33 s, sys: 427 ms, total: 1.76 s\n",
      "Wall time: 1.89 s\n"
     ]
    }
   ],
   "source": [
    "%%time\n",
    "start_airport = np.random.choice(flights['ORIGIN_AIRPORT'].unique()) \n",
    "where_to_go_from_start_airport = flights[flights.ORIGIN_AIRPORT==start_airport]['DESTINATION_AIRPORT'].unique()\n",
    "\n",
    "where_to_go_from_start_airport = pd.DataFrame(where_to_go_from_start_airport)\n",
    "where_to_go_from_start_airport.columns = ['DESTINATION_AIRPORT']\n",
    "\n",
    "top3 = where_to_go_from_start_airport\\\n",
    "    .merge(where_to_go,on='DESTINATION_AIRPORT',how='inner')\\\n",
    "    .sort_values(by=['RMSE','MEAN_ARRIVAL_DELAY_IN_PAST'],ascending=[True, True])\\\n",
    "    .head(3)\n",
    "\n",
    "print('Лучшие направления с аэропорта',start_airport)\n",
    "print('')\n",
    "print(top3)\n"
   ]
  }
 ],
 "metadata": {
  "kernelspec": {
   "display_name": "Python 3",
   "language": "python",
   "name": "python3"
  },
  "language_info": {
   "codemirror_mode": {
    "name": "ipython",
    "version": 3
   },
   "file_extension": ".py",
   "mimetype": "text/x-python",
   "name": "python",
   "nbconvert_exporter": "python",
   "pygments_lexer": "ipython3",
   "version": "3.9.5"
  }
 },
 "nbformat": 4,
 "nbformat_minor": 5
}
