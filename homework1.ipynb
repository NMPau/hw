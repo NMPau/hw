{
  "nbformat": 4,
  "nbformat_minor": 0,
  "metadata": {
    "colab": {
      "name": "homework1.ipynb",
      "provenance": [],
      "collapsed_sections": [],
      "authorship_tag": "ABX9TyNpcBXvhXfMif9cu8wXHq/x",
      "include_colab_link": true
    },
    "kernelspec": {
      "name": "python3",
      "display_name": "Python 3"
    },
    "language_info": {
      "name": "python"
    }
  },
  "cells": [
    {
      "cell_type": "markdown",
      "metadata": {
        "id": "view-in-github",
        "colab_type": "text"
      },
      "source": [
        "<a href=\"https://colab.research.google.com/github/NMPau/hw/blob/main/homework1.ipynb\" target=\"_parent\"><img src=\"https://colab.research.google.com/assets/colab-badge.svg\" alt=\"Open In Colab\"/></a>"
      ]
    },
    {
      "cell_type": "markdown",
      "source": [
        "Задача 1. \n",
        "\n",
        "Брошено две монеты. Найти вероятность того, что монеты выпали разными сторонами"
      ],
      "metadata": {
        "id": "v04vl562q-Dd"
      }
    },
    {
      "cell_type": "code",
      "source": [
        "import pandas as pd\n",
        "import numpy as np\n",
        "import matplotlib.pyplot as plt\n",
        "import random\n",
        "import scipy.stats as sts\n",
        "%matplotlib inline\n",
        "\n",
        "import warnings\n",
        "warnings.filterwarnings('ignore')"
      ],
      "metadata": {
        "id": "bIl7ljJbCbPA"
      },
      "execution_count": 2,
      "outputs": []
    },
    {
      "cell_type": "code",
      "source": [
        "# 0 - орел\n",
        "# 1 - решка\n",
        "\n",
        "p = [0.5, 0.5] \n",
        "m1 = np.random.randint(0, 2)\n",
        "m2 = np.random.randint(0, 2)\n",
        "\n",
        "same = 0\n",
        "not_same = 0\n",
        "for i in range(1):\n",
        "  if m1 != m2:\n",
        "    not_same += 1\n",
        "    print(not_same * 0.5)\n",
        "  else:\n",
        "    same += 1\n",
        "    print('Выпали одинаковыми сторонами')"
      ],
      "metadata": {
        "id": "T30w_YO-rI8w",
        "colab": {
          "base_uri": "https://localhost:8080/"
        },
        "outputId": "b9ecfc0d-d5ed-4881-84b0-25e87e76454e"
      },
      "execution_count": 24,
      "outputs": [
        {
          "output_type": "stream",
          "name": "stdout",
          "text": [
            "0.5\n"
          ]
        }
      ]
    },
    {
      "cell_type": "markdown",
      "source": [
        "Задача 2\n",
        "\n",
        "Брошено три монеты. Описать множество всех элементарных событий. Найти вероятности следующих событий:\n",
        "\n",
        "A = {не выпало ни одного герба}\n",
        "\n",
        "B = {выпало четное число гербов}\n",
        "\n",
        "C = {на третьей монете выпал герб}"
      ],
      "metadata": {
        "id": "ab9uWUOnhjsq"
      }
    },
    {
      "cell_type": "code",
      "source": [
        "# 1 - орел\n",
        "# 0 - решка\n",
        "A = 0\n",
        "B = 0\n",
        "C = 0\n",
        "all = []\n",
        "n=100\n",
        "for w in range(n):\n",
        "  m1 = np.random.randint(0, 2)\n",
        "  m2 = np.random.randint(0, 2)\n",
        "  m3 = np.random.randint(0, 2)\n",
        "  if m1 + m2 + m3 == 0:\n",
        "    A += 1\n",
        "  elif m1 + m2 + m3 == 2:\n",
        "    B +=1\n",
        "  elif m3 == 1:\n",
        "    C += 1\n",
        "  el = [m1, m2, m3]\n",
        "  if el not in all:\n",
        "    all.append(el)\n",
        "  else:\n",
        "    continue\n",
        "\n",
        "print(A/n, B/n, C/n, all)\n"
      ],
      "metadata": {
        "colab": {
          "base_uri": "https://localhost:8080/"
        },
        "id": "ba1qFyzM_0rl",
        "outputId": "17602b1f-3168-4cab-9357-0b1af0d1b606"
      },
      "execution_count": 166,
      "outputs": [
        {
          "output_type": "stream",
          "name": "stdout",
          "text": [
            "0.14 0.35 0.27 [[0, 1, 1], [1, 1, 0], [0, 0, 0], [1, 0, 0], [1, 0, 1], [1, 1, 1], [0, 0, 1], [0, 1, 0]]\n"
          ]
        }
      ]
    },
    {
      "cell_type": "markdown",
      "source": [
        "Задача 4\n",
        "\n",
        "Брошено две игральных кости. Описать множество элементарных событий. Найти вероятности событий:\n",
        "\n",
        "A = {вышло две \"шестерки\"}\n",
        "\n",
        "B = {сумма выпавших очков не меньше 11}\n",
        "\n",
        "C = {не выпала ни одна \"шестерка\"}"
      ],
      "metadata": {
        "id": "rPl-bN0NEI9C"
      }
    },
    {
      "cell_type": "code",
      "source": [
        "A = 0\n",
        "B = 0\n",
        "C = 0\n",
        "all = []\n",
        "n=200\n",
        "for w in range(n):\n",
        "  m1 = np.random.randint(1, 7)\n",
        "  m2 = np.random.randint(1, 7)\n",
        "  if m1 == m2 == 6:\n",
        "    A += 1\n",
        "  elif (m1 + m2) >= 11:\n",
        "    B += 1\n",
        "  elif m1 != 6 and m2 != 6:\n",
        "    C += 1\n",
        "  el = [m1, m2]\n",
        "  if el not in all:\n",
        "    all.append(el)\n",
        "  else:\n",
        "    continue\n",
        "\n",
        "print (A/n, B/n, C/n)"
      ],
      "metadata": {
        "colab": {
          "base_uri": "https://localhost:8080/"
        },
        "id": "IjiR_c0pEKXy",
        "outputId": "8b4ca267-1883-4a9b-e3db-d3cc024c3b98"
      },
      "execution_count": 175,
      "outputs": [
        {
          "output_type": "stream",
          "name": "stdout",
          "text": [
            "0.03 0.075 0.68\n"
          ]
        }
      ]
    },
    {
      "cell_type": "markdown",
      "source": [
        "Задача 5\n",
        "\n",
        "Брошены две игральные кости. Найти вероятность события \n",
        "\n",
        "D = {выпала хотя бы одна шестёрка}"
      ],
      "metadata": {
        "id": "0gpfOfQwc55I"
      }
    },
    {
      "cell_type": "code",
      "source": [
        "D = 0\n",
        "all = []\n",
        "n=200\n",
        "for w in range(n):\n",
        "  m1 = np.random.randint(1, 7)\n",
        "  m2 = np.random.randint(1, 7)\n",
        "  if m1 == 6 or m2 == 6:\n",
        "    D += 1\n",
        "  el = [m1, m2]\n",
        "  if el not in all:\n",
        "    all.append(el)\n",
        "  else:\n",
        "    continue\n",
        "\n",
        "print (D/n)"
      ],
      "metadata": {
        "colab": {
          "base_uri": "https://localhost:8080/"
        },
        "id": "fRwAt39PdDJU",
        "outputId": "117ee9a3-0b9c-4875-eac6-07c3ca63a434"
      },
      "execution_count": 177,
      "outputs": [
        {
          "output_type": "stream",
          "name": "stdout",
          "text": [
            "0.305\n"
          ]
        }
      ]
    },
    {
      "cell_type": "markdown",
      "source": [
        "Задача 7\n",
        "\n",
        "В лотерее имеется 10 билетов, из которых один выигрышный. Размер выигрыша 10 ден. ед.; стоимость билета 1 ден ед. \n",
        "\n",
        "Найти закон распределения случайной величины X, равной чистому выигрышу участника лотереи, который вытаскивает билет первым."
      ],
      "metadata": {
        "id": "Ed8sIAQXdZ2l"
      }
    },
    {
      "cell_type": "code",
      "source": [
        "# ЧВ, если выиграл 10-1= 9\n",
        "# P(9) = 1/10\n",
        "# ЧВ, если не выиграл 0-1= -1\n",
        "# P(-1) = 9/10\n",
        "\n",
        "bernoulli_rv = sts.bernoulli(0.1) \n",
        "bernoulli_rv.rvs(10)\n",
        "x = np.linspace(0,10,10)\n",
        "cdf = binomial_rv.cdf(x)\n",
        "plt.step(x, cdf)\n",
        "plt.ylabel(\"$F(x)$\")\n",
        "plt.xlabel(\"$x$\")\n",
        "plt.plot()"
      ],
      "metadata": {
        "colab": {
          "base_uri": "https://localhost:8080/",
          "height": 296
        },
        "id": "yOUkyL-xdfci",
        "outputId": "77afcea2-b3e5-4508-aeb0-eb145f7e230e"
      },
      "execution_count": 231,
      "outputs": [
        {
          "output_type": "execute_result",
          "data": {
            "text/plain": [
              "[]"
            ]
          },
          "metadata": {},
          "execution_count": 231
        },
        {
          "output_type": "display_data",
          "data": {
            "text/plain": [
              "<Figure size 432x288 with 1 Axes>"
            ],
            "image/png": "[encoded data removed]"
          },
          "metadata": {
            "needs_background": "light"
          }
        }
      ]
    },
    {
      "cell_type": "markdown",
      "source": [
        "Задача 9\n",
        "\n",
        "Из колоды (36 карт) вынимают последовательно без возвращения две карты. Найти вероятность того, что первой картой была шестерка, а второй — семерка. Найти условную вероятность того же события при условии, что обе карты бубновой масти."
      ],
      "metadata": {
        "id": "QXjVFiSSdjJd"
      }
    },
    {
      "cell_type": "code",
      "source": [
        "koloda = 36\n",
        "bybni = 9\n",
        "chervi = 9\n",
        "kresi = 9\n",
        "piki = 9\n",
        "# P(A) = 4/36 * 4/35\n",
        "# P(AB) = 1/36 * 1/35 - бубновая 6 и бубновая 7\n",
        "# P(bybni) = 9/36 * 8/35\n",
        "# P(A|B) = P(AB)/P(B) "
      ],
      "metadata": {
        "id": "coVfTi_mbUvJ"
      },
      "execution_count": null,
      "outputs": []
    }
  ]
}