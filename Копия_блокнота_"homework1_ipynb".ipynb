{
  "nbformat": 4,
  "nbformat_minor": 0,
  "metadata": {
    "colab": {
      "name": "Копия блокнота \"homework1.ipynb\"",
      "provenance": [],
      "collapsed_sections": [],
      "include_colab_link": true
    },
    "kernelspec": {
      "name": "python3",
      "display_name": "Python 3"
    },
    "language_info": {
      "name": "python"
    }
  },
  "cells": [
    {
      "cell_type": "markdown",
      "metadata": {
        "id": "view-in-github",
        "colab_type": "text"
      },
      "source": [
        "<a href=\"https://colab.research.google.com/github/NMPau/hw/blob/main/%D0%9A%D0%BE%D0%BF%D0%B8%D1%8F_%D0%B1%D0%BB%D0%BE%D0%BA%D0%BD%D0%BE%D1%82%D0%B0_%22homework1_ipynb%22.ipynb\" target=\"_parent\"><img src=\"https://colab.research.google.com/assets/colab-badge.svg\" alt=\"Open In Colab\"/></a>"
      ]
    },
    {
      "cell_type": "markdown",
      "source": [
        "Задача 1. \n",
        "\n",
        "Брошено две монеты. Найти вероятность того, что монеты выпали разными сторонами"
      ],
      "metadata": {
        "id": "v04vl562q-Dd"
      }
    },
    {
      "cell_type": "code",
      "source": [
        "import pandas as pd\n",
        "import numpy as np\n",
        "import matplotlib.pyplot as plt\n",
        "import random\n",
        "import scipy.stats as sts\n",
        "%matplotlib inline\n",
        "\n",
        "import warnings\n",
        "warnings.filterwarnings('ignore')"
      ],
      "metadata": {
        "id": "bIl7ljJbCbPA"
      },
      "execution_count": null,
      "outputs": []
    },
    {
      "cell_type": "code",
      "source": [
        "# 1 - орел\n",
        "# 0 - решка\n",
        "A = 0\n",
        "all = []\n",
        "n=1000000\n",
        "for w in range(n):\n",
        "  m1 = np.random.randint(0, 2)\n",
        "  m2 = np.random.randint(0, 2)\n",
        "  if m1 != m2:\n",
        "    A += 1\n",
        "  el = [m1, m2]\n",
        "  if el not in all:\n",
        "    all.append(el)\n",
        "  else:\n",
        "    continue\n",
        "\n",
        "print(A/n, all)"
      ],
      "metadata": {
        "id": "T30w_YO-rI8w",
        "colab": {
          "base_uri": "https://localhost:8080/"
        },
        "outputId": "8aa1118b-f8e2-49e3-cc31-fe1e726a1f10"
      },
      "execution_count": null,
      "outputs": [
        {
          "output_type": "stream",
          "name": "stdout",
          "text": [
            "0.50018 [[1, 0], [0, 1], [1, 1], [0, 0]]\n"
          ]
        }
      ]
    },
    {
      "cell_type": "markdown",
      "source": [
        "Задача 2\n",
        "\n",
        "Брошено три монеты. Описать множество всех элементарных событий. Найти вероятности следующих событий:\n",
        "\n",
        "A = {не выпало ни одного герба}\n",
        "\n",
        "B = {выпало четное число гербов}\n",
        "\n",
        "C = {на третьей монете выпал герб}"
      ],
      "metadata": {
        "id": "ab9uWUOnhjsq"
      }
    },
    {
      "cell_type": "code",
      "source": [
        "# 1 - орел\n",
        "# 0 - решка\n",
        "A = 0\n",
        "B = 0\n",
        "C = 0\n",
        "all = []\n",
        "n=10000000\n",
        "for w in range(n):\n",
        "  m1 = np.random.randint(0, 2)\n",
        "  m2 = np.random.randint(0, 2)\n",
        "  m3 = np.random.randint(0, 2)\n",
        "  if m1 + m2 + m3 == 0:\n",
        "    A += 1\n",
        "  elif m1 + m2 + m3 == 2:\n",
        "    B +=1\n",
        "  elif m3 == 1:\n",
        "    C += 1\n",
        "  el = [m1, m2, m3]\n",
        "  if el not in all:\n",
        "    all.append(el)\n",
        "  else:\n",
        "    continue\n",
        "\n",
        "print(A/n, B/n, C/n, all)\n"
      ],
      "metadata": {
        "colab": {
          "base_uri": "https://localhost:8080/"
        },
        "id": "ba1qFyzM_0rl",
        "outputId": "663e8466-ec91-4b88-af3a-e95da7680983"
      },
      "execution_count": null,
      "outputs": [
        {
          "output_type": "stream",
          "name": "stdout",
          "text": [
            "0.1251937 0.3749438 0.2500891 [[1, 1, 1], [1, 1, 0], [1, 0, 1], [0, 0, 0], [1, 0, 0], [0, 1, 0], [0, 1, 1], [0, 0, 1]]\n"
          ]
        }
      ]
    },
    {
      "cell_type": "markdown",
      "source": [
        "Задача 4\n",
        "\n",
        "Брошено две игральных кости. Описать множество элементарных событий. Найти вероятности событий:\n",
        "\n",
        "A = {вышло две \"шестерки\"}\n",
        "\n",
        "B = {сумма выпавших очков не меньше 11}\n",
        "\n",
        "C = {не выпала ни одна \"шестерка\"}"
      ],
      "metadata": {
        "id": "rPl-bN0NEI9C"
      }
    },
    {
      "cell_type": "code",
      "source": [
        "A = 0\n",
        "B = 0\n",
        "C = 0\n",
        "all = []\n",
        "n=1000000\n",
        "for w in range(n):\n",
        "  m1 = np.random.randint(1, 7)\n",
        "  m2 = np.random.randint(1, 7)\n",
        "  if m1 == m2 == 6:\n",
        "    A += 1\n",
        "  elif (m1 + m2) >= 11:\n",
        "    B += 1\n",
        "  elif m1 != 6 and m2 != 6:\n",
        "    C += 1\n",
        "  el = [m1, m2]\n",
        "  if el not in all:\n",
        "    all.append(el)\n",
        "  else:\n",
        "    continue\n",
        "\n",
        "print (A/n, B/n, C/n)"
      ],
      "metadata": {
        "colab": {
          "base_uri": "https://localhost:8080/"
        },
        "id": "IjiR_c0pEKXy",
        "outputId": "a976a412-0fce-4ad0-ffc6-5c0d79c1b9f3"
      },
      "execution_count": null,
      "outputs": [
        {
          "output_type": "stream",
          "name": "stdout",
          "text": [
            "0.027667 0.055307 0.69453\n"
          ]
        }
      ]
    },
    {
      "cell_type": "markdown",
      "source": [
        "Задача 5\n",
        "\n",
        "Брошены две игральные кости. Найти вероятность события \n",
        "\n",
        "D = {выпала хотя бы одна шестёрка}"
      ],
      "metadata": {
        "id": "0gpfOfQwc55I"
      }
    },
    {
      "cell_type": "code",
      "source": [
        "D = 0\n",
        "all = []\n",
        "n=1000000\n",
        "for w in range(n):\n",
        "  m1 = np.random.randint(1, 7)\n",
        "  m2 = np.random.randint(1, 7)\n",
        "  if m1 == 6 or m2 == 6:\n",
        "    D += 1\n",
        "  el = [m1, m2]\n",
        "  if el not in all:\n",
        "    all.append(el)\n",
        "  else:\n",
        "    continue\n",
        "\n",
        "print (D/n)"
      ],
      "metadata": {
        "colab": {
          "base_uri": "https://localhost:8080/"
        },
        "id": "fRwAt39PdDJU",
        "outputId": "42b90c2a-87d1-44c9-bb80-813698af0e3a"
      },
      "execution_count": null,
      "outputs": [
        {
          "output_type": "stream",
          "name": "stdout",
          "text": [
            "0.305475\n"
          ]
        }
      ]
    },
    {
      "cell_type": "markdown",
      "source": [
        "Задача 7\n",
        "\n",
        "В лотерее имеется 10 билетов, из которых один выигрышный. Размер выигрыша 10 ден. ед.; стоимость билета 1 ден ед. \n",
        "\n",
        "Найти закон распределения случайной величины X, равной чистому выигрышу участника лотереи, который вытаскивает билет первым."
      ],
      "metadata": {
        "id": "Ed8sIAQXdZ2l"
      }
    },
    {
      "cell_type": "code",
      "source": [
        "# ЧВ, если выиграл 10-1= 9\n",
        "# P(9) = 1/10\n",
        "# ЧВ, если не выиграл 0-1= -1\n",
        "# P(-1) = 9/10\n",
        "from scipy.stats import bernoulli\n",
        "bernoulli_rv = sts.bernoulli(0.1)\n",
        "data = bernoulli_rv.rvs(10)\n",
        "x = np.linspace(0,10,10)\n",
        "cdf = bernoulli_rv.cdf(data)\n",
        "plt.step(x, cdf)\n",
        "plt.ylabel(\"$F(x)$\")\n",
        "plt.xlabel(\"$x$\")\n",
        "plt.plot()"
      ],
      "metadata": {
        "colab": {
          "base_uri": "https://localhost:8080/",
          "height": 297
        },
        "id": "yOUkyL-xdfci",
        "outputId": "ccdbbb01-3380-4957-9204-5f053063ae41"
      },
      "execution_count": null,
      "outputs": [
        {
          "output_type": "execute_result",
          "data": {
            "text/plain": [
              "[]"
            ]
          },
          "metadata": {},
          "execution_count": 32
        },
        {
          "output_type": "display_data",
          "data": {
            "text/plain": [
              "<Figure size 432x288 with 1 Axes>"
            ],
            "image/png": "[encoded data removed]"
          },
          "metadata": {
            "needs_background": "light"
          }
        }
      ]
    },
    {
      "cell_type": "markdown",
      "source": [
        "Задача 9\n",
        "\n",
        "Из колоды (36 карт) вынимают последовательно без возвращения две карты. Найти вероятность того, что первой картой была шестерка, а второй — семерка. Найти условную вероятность того же события при условии, что обе карты бубновой масти."
      ],
      "metadata": {
        "id": "QXjVFiSSdjJd"
      }
    },
    {
      "cell_type": "code",
      "source": [
        "koloda = 36\n",
        "b = np.random.randint(1,10)\n",
        "c = np.random.randint(10,19)\n",
        "k = np.random.randint(19,30)\n",
        "p = np.random.randint(30,39)\n",
        "el = [b,c,k,p]\n",
        "karta = np.random.choice(el)\n",
        "karta\n",
        "# P(A) = 4/36 * 4/35 - первая 6, вторая 7\n",
        "# P(AB) = 1/36 * 1/35 - бубновая 6 и бубновая 7\n",
        "# P(B) = 9/36 * 8/35\n",
        "# P(A|B) = P(AB)/P(B) "
      ],
      "metadata": {
        "id": "coVfTi_mbUvJ",
        "outputId": "381a7f08-49ce-45cf-b5fe-33df45c1907b",
        "colab": {
          "base_uri": "https://localhost:8080/"
        }
      },
      "execution_count": null,
      "outputs": [
        {
          "output_type": "execute_result",
          "data": {
            "text/plain": [
              "23"
            ]
          },
          "metadata": {},
          "execution_count": 35
        }
      ]
    },
    {
      "cell_type": "code",
      "source": [
        "A = 0\n",
        "B = 0\n",
        "all=36\n",
        "n=36\n",
        "for w in range(n):\n",
        "  b = [1,2,3,4,5,6,7,8,9]\n",
        "  c = [10,11,12,13,14,15,16,17,18]\n",
        "  k = [19,20,21,22,23,24,25,26,27]\n",
        "  p = [28,29,30,31,32,33,34,35,36]\n",
        "  b1 = np.random.choice(b)\n",
        "  c1 = np.random.choice(c)\n",
        "  k1 = np.random.choice(k)\n",
        "  p1 = np.random.choice(p)\n",
        "  el = [b1,c1,k1,p1]\n",
        "  karta1 = np.random.choice(el)\n",
        "  karta2 = np.random.choice(el)\n",
        "  if (karta1 != karta2) and (karta1 == b[5] or karta1 == c[5] or karta1 == k[5] or karta1 == p[5]):\n",
        "    A += 1\n",
        "  elif (karta1 != karta2) and (karta2 == b[6] or karta2 == c[6] or karta2 == k[6] or karta2 == p[6]):\n",
        "    B += 1\n",
        "  else:\n",
        "    continue\n",
        "\n",
        "print(A/all * B/(all-1))"
      ],
      "metadata": {
        "id": "yw04ofIWOc1O",
        "outputId": "35318222-a0ca-48ab-dd3b-f7a3f0d7a2d7",
        "colab": {
          "base_uri": "https://localhost:8080/"
        }
      },
      "execution_count": null,
      "outputs": [
        {
          "output_type": "stream",
          "name": "stdout",
          "text": [
            "0.011111111111111112\n"
          ]
        }
      ]
    }
  ]
}